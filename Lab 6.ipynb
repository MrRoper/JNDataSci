{
 "cells": [
  {
   "cell_type": "code",
   "execution_count": 28,
   "metadata": {
    "collapsed": true
   },
   "outputs": [],
   "source": [
    "import pandas as pd\n",
    "import matplotlib.pyplot as plt"
   ]
  },
  {
   "cell_type": "code",
   "execution_count": 29,
   "metadata": {
    "collapsed": true
   },
   "outputs": [],
   "source": [
    "drinks = pd.read_csv('http://bit.ly/drinksbycountry')"
   ]
  },
  {
   "cell_type": "code",
   "execution_count": 30,
   "metadata": {
    "collapsed": true
   },
   "outputs": [],
   "source": [
    "beer_Asia = drinks[drinks.continent=='Asia'].beer_servings\n",
    "beer_NorthAmerica = drinks[drinks.continent=='North America'].beer_servings\n",
    "beer_Europe = drinks[drinks.continent=='Europe'].beer_servings\n",
    "beer_Africa = drinks[drinks.continent=='Africa'].beer_servings\n",
    "beer_SouthAmerica = drinks[drinks.continent=='South America'].beer_servings\n",
    "beer_Oceania = drinks[drinks.continent=='Oceania'].beer_servings"
   ]
  },
  {
   "cell_type": "code",
   "execution_count": 31,
   "metadata": {
    "collapsed": false
   },
   "outputs": [
    {
     "data": {
      "text/plain": [
       "<matplotlib.text.Text at 0x1049afef0>"
      ]
     },
     "execution_count": 31,
     "metadata": {},
     "output_type": "execute_result"
    }
   ],
   "source": [
    "fig = plt.figure()\n",
    "fig.suptitle('LAS350A Lab 6', fontsize=14, fontweight='bold')"
   ]
  },
  {
   "cell_type": "code",
   "execution_count": 32,
   "metadata": {
    "collapsed": true
   },
   "outputs": [],
   "source": [
    "ax = fig.add_subplot(111)"
   ]
  },
  {
   "cell_type": "code",
   "execution_count": 33,
   "metadata": {
    "collapsed": false
   },
   "outputs": [
    {
     "data": {
      "text/plain": [
       "{'boxes': [<matplotlib.lines.Line2D at 0x111fb6438>,\n",
       "  <matplotlib.lines.Line2D at 0x111e9b748>,\n",
       "  <matplotlib.lines.Line2D at 0x111eb30b8>,\n",
       "  <matplotlib.lines.Line2D at 0x111ec49e8>,\n",
       "  <matplotlib.lines.Line2D at 0x111fc6358>,\n",
       "  <matplotlib.lines.Line2D at 0x111fd6c88>],\n",
       " 'caps': [<matplotlib.lines.Line2D at 0x111fbbd68>,\n",
       "  <matplotlib.lines.Line2D at 0x111fbbef0>,\n",
       "  <matplotlib.lines.Line2D at 0x111ea3fd0>,\n",
       "  <matplotlib.lines.Line2D at 0x111ea8ef0>,\n",
       "  <matplotlib.lines.Line2D at 0x111eb9ef0>,\n",
       "  <matplotlib.lines.Line2D at 0x111ebe860>,\n",
       "  <matplotlib.lines.Line2D at 0x111ed0978>,\n",
       "  <matplotlib.lines.Line2D at 0x111ed0b00>,\n",
       "  <matplotlib.lines.Line2D at 0x111fcac18>,\n",
       "  <matplotlib.lines.Line2D at 0x111fd0b00>,\n",
       "  <matplotlib.lines.Line2D at 0x111fe3c18>,\n",
       "  <matplotlib.lines.Line2D at 0x10d3c4198>],\n",
       " 'fliers': [<matplotlib.lines.Line2D at 0x111fc0f60>,\n",
       "  <matplotlib.lines.Line2D at 0x111eadf60>,\n",
       "  <matplotlib.lines.Line2D at 0x111ec48d0>,\n",
       "  <matplotlib.lines.Line2D at 0x111ed6b70>,\n",
       "  <matplotlib.lines.Line2D at 0x111fd6b70>,\n",
       "  <matplotlib.lines.Line2D at 0x10f5aaac8>],\n",
       " 'means': [],\n",
       " 'medians': [<matplotlib.lines.Line2D at 0x111fc0748>,\n",
       "  <matplotlib.lines.Line2D at 0x111ead0b8>,\n",
       "  <matplotlib.lines.Line2D at 0x111ebe9e8>,\n",
       "  <matplotlib.lines.Line2D at 0x111ed6358>,\n",
       "  <matplotlib.lines.Line2D at 0x111fd0c88>,\n",
       "  <matplotlib.lines.Line2D at 0x111e8a128>],\n",
       " 'whiskers': [<matplotlib.lines.Line2D at 0x111fb6cf8>,\n",
       "  <matplotlib.lines.Line2D at 0x111fb6e80>,\n",
       "  <matplotlib.lines.Line2D at 0x111e9bf98>,\n",
       "  <matplotlib.lines.Line2D at 0x111ea3e80>,\n",
       "  <matplotlib.lines.Line2D at 0x111eb3f98>,\n",
       "  <matplotlib.lines.Line2D at 0x111eb97f0>,\n",
       "  <matplotlib.lines.Line2D at 0x111ec9908>,\n",
       "  <matplotlib.lines.Line2D at 0x111ec9a90>,\n",
       "  <matplotlib.lines.Line2D at 0x111fc6ba8>,\n",
       "  <matplotlib.lines.Line2D at 0x111fcaa90>,\n",
       "  <matplotlib.lines.Line2D at 0x111fdcba8>,\n",
       "  <matplotlib.lines.Line2D at 0x111fdcd30>]}"
      ]
     },
     "execution_count": 33,
     "metadata": {},
     "output_type": "execute_result"
    }
   ],
   "source": [
    "ax.boxplot((beer_Asia, beer_NorthAmerica, beer_Europe, beer_Africa, beer_SouthAmerica, beer_Oceania))"
   ]
  },
  {
   "cell_type": "code",
   "execution_count": 34,
   "metadata": {
    "collapsed": false
   },
   "outputs": [
    {
     "data": {
      "text/plain": [
       "([<matplotlib.axis.XTick at 0x111e95630>,\n",
       "  <matplotlib.axis.XTick at 0x111d754a8>,\n",
       "  <matplotlib.axis.XTick at 0x111e8e978>,\n",
       "  <matplotlib.axis.XTick at 0x111fef400>,\n",
       "  <matplotlib.axis.XTick at 0x111fefdd8>,\n",
       "  <matplotlib.axis.XTick at 0x111ff27f0>],\n",
       " <a list of 6 Text xticklabel objects>)"
      ]
     },
     "execution_count": 34,
     "metadata": {},
     "output_type": "execute_result"
    }
   ],
   "source": [
    "ax.set_title('Beer Consumptions by Continent')\n",
    "ax.set_xlabel('Continent')\n",
    "ax.set_ylabel('Beer Consumption')\n",
    "plt.xticks([1, 2, 3, 4, 5, 6], ['Asia', 'NorthAmerica', 'Europe', 'Africa', 'SouthAmerica', 'Oceania'])"
   ]
  },
  {
   "cell_type": "code",
   "execution_count": 35,
   "metadata": {
    "collapsed": false
   },
   "outputs": [
    {
     "data": {
      "image/png": "[encoded data removed]",
      "text/plain": [
       "<matplotlib.figure.Figure at 0x1049afc18>"
      ]
     },
     "metadata": {},
     "output_type": "display_data"
    }
   ],
   "source": [
    "plt.show()"
   ]
  },
  {
   "cell_type": "code",
   "execution_count": null,
   "metadata": {
    "collapsed": true
   },
   "outputs": [],
   "source": []
  }
 ],
 "metadata": {
  "kernelspec": {
   "display_name": "Python 3",
   "language": "python",
   "name": "python3"
  },
  "language_info": {
   "codemirror_mode": {
    "name": "ipython",
    "version": 3
   },
   "file_extension": ".py",
   "mimetype": "text/x-python",
   "name": "python",
   "nbconvert_exporter": "python",
   "pygments_lexer": "ipython3",
   "version": "3.6.0"
  }
 },
 "nbformat": 4,
 "nbformat_minor": 2
}
