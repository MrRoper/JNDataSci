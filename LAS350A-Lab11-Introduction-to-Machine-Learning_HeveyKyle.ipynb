{
 "cells": [
  {
   "cell_type": "code",
   "execution_count": 44,
   "metadata": {
    "collapsed": true
   },
   "outputs": [],
   "source": [
    "from sklearn import tree"
   ]
  },
  {
   "cell_type": "code",
   "execution_count": 48,
   "metadata": {
    "collapsed": false
   },
   "outputs": [],
   "source": [
    "features = [[140, 1], [130, 1], [150, 0], [170, 0]]\n",
    "labels = [0, 0, 1, 1]\n",
    "# bumpy = 0\n",
    "# smooth = 1\n",
    "\n",
    "# apple = 0\n",
    "# orange = 1"
   ]
  },
  {
   "cell_type": "code",
   "execution_count": 49,
   "metadata": {
    "collapsed": false
   },
   "outputs": [],
   "source": [
    "clf = tree.DecisionTreeClassifier()\n",
    "clf = clf.fit(features, labels)"
   ]
  },
  {
   "cell_type": "code",
   "execution_count": 50,
   "metadata": {
    "collapsed": false
   },
   "outputs": [
    {
     "name": "stdout",
     "output_type": "stream",
     "text": [
      "[1]\n"
     ]
    }
   ],
   "source": [
    "print(clf.predict([[140, 0]]))"
   ]
  },
  {
   "cell_type": "markdown",
   "metadata": {},
   "source": [
    "1) If the weight of the fruit is 140 and it has bumpy skin the model predicts it is an orange.  \n",
    "2) The texture of the skin (smooth or bumpy) is more important for the decision tree model."
   ]
  },
  {
   "cell_type": "code",
   "execution_count": 5,
   "metadata": {
    "collapsed": true
   },
   "outputs": [],
   "source": [
    "features2 = [[0, 15], [0, 25], [1, 32], [0, 40] ,[1, 12], [1, 14]]\n",
    "labels2 = [0, 1, 2, 1, 0, 0]\n",
    "# female = 0\n",
    "# male = 1\n",
    "\n",
    "# pokemon go = 0\n",
    "# whatsapp = 1\n",
    "# snapchat = 2"
   ]
  },
  {
   "cell_type": "code",
   "execution_count": 6,
   "metadata": {
    "collapsed": false
   },
   "outputs": [
    {
     "name": "stdout",
     "output_type": "stream",
     "text": [
      "[2]\n",
      "[0]\n"
     ]
    }
   ],
   "source": [
    "cla = tree.DecisionTreeClassifier()\n",
    "cla = cla.fit(features2, labels2)\n",
    "print(cla.predict([[1, 21]]))\n",
    "print(cla.predict([[0, 18]]))"
   ]
  },
  {
   "cell_type": "markdown",
   "metadata": {},
   "source": [
    "4) The model recommended SnapChat for the male that is 21 years old.  \n",
    "5) The model recommended Pokémon Go for the female that is 18 years old."
   ]
  },
  {
   "cell_type": "code",
   "execution_count": null,
   "metadata": {
    "collapsed": true
   },
   "outputs": [],
   "source": []
  }
 ],
 "metadata": {
  "kernelspec": {
   "display_name": "Python [default]",
   "language": "python",
   "name": "python3"
  },
  "language_info": {
   "codemirror_mode": {
    "name": "ipython",
    "version": 3
   },
   "file_extension": ".py",
   "mimetype": "text/x-python",
   "name": "python",
   "nbconvert_exporter": "python",
   "pygments_lexer": "ipython3",
   "version": "3.5.2"
  }
 },
 "nbformat": 4,
 "nbformat_minor": 2
}
